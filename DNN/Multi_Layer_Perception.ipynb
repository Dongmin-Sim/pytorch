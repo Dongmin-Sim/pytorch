{
 "cells": [
  {
   "cell_type": "markdown",
   "metadata": {},
   "source": [
    "edwith의 부스트 코스 : \"파이토치로 시작하는 딥러닝 기초\" 를 바탕으로 작성되었습니다.  \n",
    "https://www.boostcourse.org/ai214"
   ]
  },
  {
   "cell_type": "markdown",
   "metadata": {},
   "source": [
    "# Multi Layer Perceptron\n",
    "\n",
    "- Multi Layer Perceptron\n",
    "- Backpropagation\n",
    "- Full code : XOR-nn\n",
    "- Full code : XOR-nn-wide-deep"
   ]
  },
  {
   "cell_type": "markdown",
   "metadata": {},
   "source": [
    "## Multi Layer Perceptron\n",
    "1969년 마빈 민스키가 하나의 layer를 가지는 Perceptron 구조로는 XOR 을 해결할 수 없다는 것을 증명하면서 Multi Layer Perceptron의 제시하였는데, 이는 말 그래도 하나의 layer 가 아니라 \n",
    "1개 이상의 여러 층을 가지는 구조를 Multi Layer Perceptron 라고 함. "
   ]
  },
  {
   "cell_type": "markdown",
   "metadata": {},
   "source": [
    "## Backpropagation\n",
    "Backpropagation 알고리즘이 개발되면서 Multi Layer Perceptron을 학습시킬 수 있었는데, Backpropagation이라는 것은 입력 X가 들어왔을때, neural network 를 통해서 output Y 를 구하게 되는데   \n",
    "이 output과 정답 간의 차이를 cost, loss 라고 부르게 됨. 이 loss 에 대해서 weight 들에 대한 미분값을 계산하게 되고, 계산된 gradient 를 가지고 뒷단에 있는 weight 부터 loss 값을 최소화시킬 수 있는 방식으로  \n",
    "weight를 업데이트 시키는 방식을 Backpropagation 알고리즘이라고 함. "
   ]
  },
  {
   "cell_type": "markdown",
   "metadata": {},
   "source": []
  },
  {
   "cell_type": "markdown",
   "metadata": {},
   "source": []
  }
 ],
 "metadata": {
  "kernelspec": {
   "display_name": "Python 3",
   "language": "python",
   "name": "python3"
  },
  "language_info": {
   "codemirror_mode": {
    "name": "ipython",
    "version": 3
   },
   "file_extension": ".py",
   "mimetype": "text/x-python",
   "name": "python",
   "nbconvert_exporter": "python",
   "pygments_lexer": "ipython3",
   "version": "3.8.5"
  },
  "toc": {
   "base_numbering": 1,
   "nav_menu": {},
   "number_sections": true,
   "sideBar": true,
   "skip_h1_title": false,
   "title_cell": "Table of Contents",
   "title_sidebar": "Contents",
   "toc_cell": false,
   "toc_position": {},
   "toc_section_display": true,
   "toc_window_display": false
  },
  "varInspector": {
   "cols": {
    "lenName": 16,
    "lenType": 16,
    "lenVar": 40
   },
   "kernels_config": {
    "python": {
     "delete_cmd_postfix": "",
     "delete_cmd_prefix": "del ",
     "library": "var_list.py",
     "varRefreshCmd": "print(var_dic_list())"
    },
    "r": {
     "delete_cmd_postfix": ") ",
     "delete_cmd_prefix": "rm(",
     "library": "var_list.r",
     "varRefreshCmd": "cat(var_dic_list()) "
    }
   },
   "types_to_exclude": [
    "module",
    "function",
    "builtin_function_or_method",
    "instance",
    "_Feature"
   ],
   "window_display": false
  }
 },
 "nbformat": 4,
 "nbformat_minor": 4
}
