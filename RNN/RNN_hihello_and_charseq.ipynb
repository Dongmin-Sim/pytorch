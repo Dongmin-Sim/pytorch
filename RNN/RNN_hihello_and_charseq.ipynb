{
 "cells": [
  {
   "cell_type": "markdown",
   "metadata": {},
   "source": [
    "edwith의 부스트 코스 : \"파이토치로 시작하는 딥러닝 기초\" 를 바탕으로 작성되었습니다.  \n",
    "https://www.boostcourse.org/ai214"
   ]
  },
  {
   "cell_type": "markdown",
   "metadata": {},
   "source": [
    "# Hihello \n",
    "\n",
    "- hihello problem\n",
    "- Data setting\n",
    "    * One-hot encoding\n",
    "- Cross entropy loss\n",
    "- Code run"
   ]
  },
  {
   "cell_type": "code",
   "execution_count": 1,
   "metadata": {},
   "outputs": [],
   "source": [
    "import torch\n",
    "import torch.nn as nn\n",
    "import numpy as np"
   ]
  },
  {
   "cell_type": "code",
   "execution_count": 2,
   "metadata": {},
   "outputs": [],
   "source": [
    "char_set = ['h', 'i', 'e', 'l', 'o']\n",
    "\n",
    "input_size = len(char_set)\n",
    "hidden_size = len(char_set)\n",
    "learning_rate = 0.1\n",
    "\n",
    "x_data = [[0, 1, 0, 2, 3, 3]]\n",
    "x_one_hot = [[[1, 0, 0, 0, 0],\n",
    "             [0, 1, 0, 0, 0],\n",
    "             [1, 0, 0, 0, 0],\n",
    "             [0, 0, 1, 0, 0],\n",
    "             [0, 0, 0, 1, 0],\n",
    "             [0, 0, 0, 1, 0]]]\n",
    "y_date = [[1, 0, 2, 3, 3, 4]]\n",
    "\n",
    "X = torch.FloatTensor(x_one_hot)\n",
    "Y = torch.LongTensor(y_date)"
   ]
  },
  {
   "cell_type": "markdown",
   "metadata": {},
   "source": [
    "charseq 코드"
   ]
  },
  {
   "cell_type": "code",
   "execution_count": 19,
   "metadata": {},
   "outputs": [
    {
     "name": "stdout",
     "output_type": "stream",
     "text": [
      "{'a': 0, 'n': 1, 't': 2, ' ': 3, 'i': 4, 'f': 5, 'u': 6, 'w': 7, 'o': 8, 'y': 9}\n"
     ]
    }
   ],
   "source": [
    "sample = 'if you want you'\n",
    "# make dict\n",
    "char_set = list(set(sample))\n",
    "char_dic = {c: i for i, c in enumerate(char_set)}\n",
    "print(char_dic)\n",
    "# hyperparameters\n",
    "dic_size = len(char_dic)\n",
    "hidden_size = len(char_dic)\n",
    "learning_rate = 0.1\n",
    "\n",
    "# data setting\n",
    "sample_idx = [char_dic[c] for c in sample]\n",
    "x_data = [sample_idx[:-1]]\n",
    "x_one_hot = [np.eye(dic_size)[x] for x in x_data]\n",
    "y_data = [sample_idx[1:]]\n",
    "\n",
    "# transform as torch tensor variable\n",
    "X = torch.FloatTensor(x_one_hot)\n",
    "Y = torch.LongTensor(y_data)"
   ]
  },
  {
   "cell_type": "code",
   "execution_count": 20,
   "metadata": {},
   "outputs": [],
   "source": [
    "rnn = torch.nn.RNN(dic_size, hidden_size, batch_first=True)"
   ]
  },
  {
   "cell_type": "code",
   "execution_count": 21,
   "metadata": {},
   "outputs": [],
   "source": [
    "criterion = torch.nn.CrossEntropyLoss()\n",
    "optimizer = torch.optim.Adam(rnn.parameters(), learning_rate)"
   ]
  },
  {
   "cell_type": "code",
   "execution_count": 22,
   "metadata": {},
   "outputs": [
    {
     "name": "stdout",
     "output_type": "stream",
     "text": [
      "0 loss :  2.3489458560943604 prediction :  [[6 5 6 9 7 9 9 6 9 9 5 6 5 5]] true Y : [[5, 3, 9, 8, 6, 3, 7, 0, 1, 2, 3, 9, 8, 6]] prediction_str :  ufuywyyuyyfuff\n",
      "1 loss :  2.0053725242614746 prediction :  [[6 9 9 9 3 9 9 3 9 9 3 9 9 3]] true Y : [[5, 3, 9, 8, 6, 3, 7, 0, 1, 2, 3, 9, 8, 6]] prediction_str :  uyyy yy yy yy \n",
      "2 loss :  1.78561270236969 prediction :  [[6 3 3 8 3 3 9 3 3 3 3 3 8 3]] true Y : [[5, 3, 9, 8, 6, 3, 7, 0, 1, 2, 3, 9, 8, 6]] prediction_str :  u  o  y     o \n",
      "3 loss :  1.6066131591796875 prediction :  [[6 3 8 8 6 3 3 3 1 2 3 3 8 6]] true Y : [[5, 3, 9, 8, 6, 3, 7, 0, 1, 2, 3, 9, 8, 6]] prediction_str :  u oou   nt  ou\n",
      "4 loss :  1.507324457168579 prediction :  [[6 3 8 8 6 3 8 8 1 2 3 3 8 6]] true Y : [[5, 3, 9, 8, 6, 3, 7, 0, 1, 2, 3, 9, 8, 6]] prediction_str :  u oou oont  ou\n",
      "5 loss :  1.406067132949829 prediction :  [[9 3 8 8 6 3 8 8 1 2 3 3 8 6]] true Y : [[5, 3, 9, 8, 6, 3, 7, 0, 1, 2, 3, 9, 8, 6]] prediction_str :  y oou oont  ou\n",
      "6 loss :  1.3074626922607422 prediction :  [[5 3 8 8 6 3 9 8 1 2 3 3 8 6]] true Y : [[5, 3, 9, 8, 6, 3, 7, 0, 1, 2, 3, 9, 8, 6]] prediction_str :  f oou yont  ou\n",
      "7 loss :  1.2498177289962769 prediction :  [[5 3 8 8 6 3 9 8 1 2 3 3 8 6]] true Y : [[5, 3, 9, 8, 6, 3, 7, 0, 1, 2, 3, 9, 8, 6]] prediction_str :  f oou yont  ou\n",
      "8 loss :  1.2039557695388794 prediction :  [[5 3 8 8 6 3 9 8 1 2 3 9 8 6]] true Y : [[5, 3, 9, 8, 6, 3, 7, 0, 1, 2, 3, 9, 8, 6]] prediction_str :  f oou yont you\n",
      "9 loss :  1.1614080667495728 prediction :  [[5 3 8 8 6 3 9 8 1 2 3 9 8 6]] true Y : [[5, 3, 9, 8, 6, 3, 7, 0, 1, 2, 3, 9, 8, 6]] prediction_str :  f oou yont you\n",
      "10 loss :  1.1158477067947388 prediction :  [[5 3 9 8 6 3 9 8 1 2 3 9 8 6]] true Y : [[5, 3, 9, 8, 6, 3, 7, 0, 1, 2, 3, 9, 8, 6]] prediction_str :  f you yont you\n",
      "11 loss :  1.0702146291732788 prediction :  [[5 3 9 8 6 3 9 0 1 2 3 9 8 6]] true Y : [[5, 3, 9, 8, 6, 3, 7, 0, 1, 2, 3, 9, 8, 6]] prediction_str :  f you yant you\n",
      "12 loss :  1.029279112815857 prediction :  [[5 3 9 8 6 3 9 0 1 2 3 9 8 6]] true Y : [[5, 3, 9, 8, 6, 3, 7, 0, 1, 2, 3, 9, 8, 6]] prediction_str :  f you yant you\n",
      "13 loss :  0.9957515001296997 prediction :  [[5 3 9 8 6 3 9 0 1 2 3 9 8 6]] true Y : [[5, 3, 9, 8, 6, 3, 7, 0, 1, 2, 3, 9, 8, 6]] prediction_str :  f you yant you\n",
      "14 loss :  0.976405143737793 prediction :  [[5 3 9 8 6 3 9 0 1 2 3 9 8 6]] true Y : [[5, 3, 9, 8, 6, 3, 7, 0, 1, 2, 3, 9, 8, 6]] prediction_str :  f you yant you\n",
      "15 loss :  0.9604560732841492 prediction :  [[5 3 9 8 6 3 7 0 1 2 3 9 8 6]] true Y : [[5, 3, 9, 8, 6, 3, 7, 0, 1, 2, 3, 9, 8, 6]] prediction_str :  f you want you\n",
      "16 loss :  0.9432011842727661 prediction :  [[5 3 9 8 6 3 7 0 1 2 3 9 8 6]] true Y : [[5, 3, 9, 8, 6, 3, 7, 0, 1, 2, 3, 9, 8, 6]] prediction_str :  f you want you\n",
      "17 loss :  0.9245225191116333 prediction :  [[5 3 9 8 6 3 7 0 1 2 3 9 8 6]] true Y : [[5, 3, 9, 8, 6, 3, 7, 0, 1, 2, 3, 9, 8, 6]] prediction_str :  f you want you\n",
      "18 loss :  0.9083828330039978 prediction :  [[5 3 9 8 6 3 7 0 1 2 3 9 8 6]] true Y : [[5, 3, 9, 8, 6, 3, 7, 0, 1, 2, 3, 9, 8, 6]] prediction_str :  f you want you\n",
      "19 loss :  0.8973561525344849 prediction :  [[5 3 9 8 6 3 7 0 1 2 3 9 8 6]] true Y : [[5, 3, 9, 8, 6, 3, 7, 0, 1, 2, 3, 9, 8, 6]] prediction_str :  f you want you\n",
      "20 loss :  0.8884387612342834 prediction :  [[5 3 9 8 6 3 7 0 1 2 3 9 8 6]] true Y : [[5, 3, 9, 8, 6, 3, 7, 0, 1, 2, 3, 9, 8, 6]] prediction_str :  f you want you\n",
      "21 loss :  0.8808482885360718 prediction :  [[5 3 9 8 6 3 7 0 1 2 3 9 8 6]] true Y : [[5, 3, 9, 8, 6, 3, 7, 0, 1, 2, 3, 9, 8, 6]] prediction_str :  f you want you\n",
      "22 loss :  0.8747925162315369 prediction :  [[5 3 9 8 6 3 7 0 1 2 3 9 8 6]] true Y : [[5, 3, 9, 8, 6, 3, 7, 0, 1, 2, 3, 9, 8, 6]] prediction_str :  f you want you\n",
      "23 loss :  0.8703950047492981 prediction :  [[5 3 9 8 6 3 7 0 1 2 3 9 8 6]] true Y : [[5, 3, 9, 8, 6, 3, 7, 0, 1, 2, 3, 9, 8, 6]] prediction_str :  f you want you\n",
      "24 loss :  0.8672388792037964 prediction :  [[5 3 9 8 6 3 7 0 1 2 3 9 8 6]] true Y : [[5, 3, 9, 8, 6, 3, 7, 0, 1, 2, 3, 9, 8, 6]] prediction_str :  f you want you\n",
      "25 loss :  0.8640304207801819 prediction :  [[5 3 9 8 6 3 7 0 1 2 3 9 8 6]] true Y : [[5, 3, 9, 8, 6, 3, 7, 0, 1, 2, 3, 9, 8, 6]] prediction_str :  f you want you\n",
      "26 loss :  0.8604998588562012 prediction :  [[5 3 9 8 6 3 7 0 1 2 3 9 8 6]] true Y : [[5, 3, 9, 8, 6, 3, 7, 0, 1, 2, 3, 9, 8, 6]] prediction_str :  f you want you\n",
      "27 loss :  0.8572857975959778 prediction :  [[5 3 9 8 6 3 7 0 1 2 3 9 8 6]] true Y : [[5, 3, 9, 8, 6, 3, 7, 0, 1, 2, 3, 9, 8, 6]] prediction_str :  f you want you\n",
      "28 loss :  0.8545680046081543 prediction :  [[5 3 9 8 6 3 7 0 1 2 3 9 8 6]] true Y : [[5, 3, 9, 8, 6, 3, 7, 0, 1, 2, 3, 9, 8, 6]] prediction_str :  f you want you\n",
      "29 loss :  0.8519874215126038 prediction :  [[5 3 9 8 6 3 7 0 1 2 3 9 8 6]] true Y : [[5, 3, 9, 8, 6, 3, 7, 0, 1, 2, 3, 9, 8, 6]] prediction_str :  f you want you\n",
      "30 loss :  0.8495990037918091 prediction :  [[5 3 9 8 6 3 7 0 1 2 3 9 8 6]] true Y : [[5, 3, 9, 8, 6, 3, 7, 0, 1, 2, 3, 9, 8, 6]] prediction_str :  f you want you\n",
      "31 loss :  0.8475716710090637 prediction :  [[5 3 9 8 6 3 7 0 1 2 3 9 8 6]] true Y : [[5, 3, 9, 8, 6, 3, 7, 0, 1, 2, 3, 9, 8, 6]] prediction_str :  f you want you\n",
      "32 loss :  0.8457172513008118 prediction :  [[5 3 9 8 6 3 7 0 1 2 3 9 8 6]] true Y : [[5, 3, 9, 8, 6, 3, 7, 0, 1, 2, 3, 9, 8, 6]] prediction_str :  f you want you\n",
      "33 loss :  0.8438069224357605 prediction :  [[5 3 9 8 6 3 7 0 1 2 3 9 8 6]] true Y : [[5, 3, 9, 8, 6, 3, 7, 0, 1, 2, 3, 9, 8, 6]] prediction_str :  f you want you\n",
      "34 loss :  0.8417772054672241 prediction :  [[5 3 9 8 6 3 7 0 1 2 3 9 8 6]] true Y : [[5, 3, 9, 8, 6, 3, 7, 0, 1, 2, 3, 9, 8, 6]] prediction_str :  f you want you\n",
      "35 loss :  0.8397520780563354 prediction :  [[5 3 9 8 6 3 7 0 1 2 3 9 8 6]] true Y : [[5, 3, 9, 8, 6, 3, 7, 0, 1, 2, 3, 9, 8, 6]] prediction_str :  f you want you\n",
      "36 loss :  0.8379780650138855 prediction :  [[5 3 9 8 6 3 7 0 1 2 3 9 8 6]] true Y : [[5, 3, 9, 8, 6, 3, 7, 0, 1, 2, 3, 9, 8, 6]] prediction_str :  f you want you\n",
      "37 loss :  0.8365473747253418 prediction :  [[5 3 9 8 6 3 7 0 1 2 3 9 8 6]] true Y : [[5, 3, 9, 8, 6, 3, 7, 0, 1, 2, 3, 9, 8, 6]] prediction_str :  f you want you\n",
      "38 loss :  0.8350921273231506 prediction :  [[5 3 9 8 6 3 7 0 1 2 3 9 8 6]] true Y : [[5, 3, 9, 8, 6, 3, 7, 0, 1, 2, 3, 9, 8, 6]] prediction_str :  f you want you\n",
      "39 loss :  0.8332543969154358 prediction :  [[5 3 9 8 6 3 7 0 1 2 3 9 8 6]] true Y : [[5, 3, 9, 8, 6, 3, 7, 0, 1, 2, 3, 9, 8, 6]] prediction_str :  f you want you\n",
      "40 loss :  0.8313069939613342 prediction :  [[5 3 9 8 6 3 7 0 1 2 3 9 8 6]] true Y : [[5, 3, 9, 8, 6, 3, 7, 0, 1, 2, 3, 9, 8, 6]] prediction_str :  f you want you\n",
      "41 loss :  0.829673707485199 prediction :  [[5 3 9 8 6 3 7 0 1 2 3 9 8 6]] true Y : [[5, 3, 9, 8, 6, 3, 7, 0, 1, 2, 3, 9, 8, 6]] prediction_str :  f you want you\n",
      "42 loss :  0.8283859491348267 prediction :  [[5 3 9 8 6 3 7 0 1 2 3 9 8 6]] true Y : [[5, 3, 9, 8, 6, 3, 7, 0, 1, 2, 3, 9, 8, 6]] prediction_str :  f you want you\n",
      "43 loss :  0.8272448778152466 prediction :  [[5 3 9 8 6 3 7 0 1 2 3 9 8 6]] true Y : [[5, 3, 9, 8, 6, 3, 7, 0, 1, 2, 3, 9, 8, 6]] prediction_str :  f you want you\n",
      "44 loss :  0.8261248469352722 prediction :  [[5 3 9 8 6 3 7 0 1 2 3 9 8 6]] true Y : [[5, 3, 9, 8, 6, 3, 7, 0, 1, 2, 3, 9, 8, 6]] prediction_str :  f you want you\n",
      "45 loss :  0.8250342607498169 prediction :  [[5 3 9 8 6 3 7 0 1 2 3 9 8 6]] true Y : [[5, 3, 9, 8, 6, 3, 7, 0, 1, 2, 3, 9, 8, 6]] prediction_str :  f you want you\n",
      "46 loss :  0.8240062594413757 prediction :  [[5 3 9 8 6 3 7 0 1 2 3 9 8 6]] true Y : [[5, 3, 9, 8, 6, 3, 7, 0, 1, 2, 3, 9, 8, 6]] prediction_str :  f you want you\n",
      "47 loss :  0.8230196833610535 prediction :  [[5 3 9 8 6 3 7 0 1 2 3 9 8 6]] true Y : [[5, 3, 9, 8, 6, 3, 7, 0, 1, 2, 3, 9, 8, 6]] prediction_str :  f you want you\n",
      "48 loss :  0.8220649361610413 prediction :  [[5 3 9 8 6 3 7 0 1 2 3 9 8 6]] true Y : [[5, 3, 9, 8, 6, 3, 7, 0, 1, 2, 3, 9, 8, 6]] prediction_str :  f you want you\n",
      "49 loss :  0.821235179901123 prediction :  [[5 3 9 8 6 3 7 0 1 2 3 9 8 6]] true Y : [[5, 3, 9, 8, 6, 3, 7, 0, 1, 2, 3, 9, 8, 6]] prediction_str :  f you want you\n"
     ]
    }
   ],
   "source": [
    "for i in range(50):\n",
    "    optimizer.zero_grad()\n",
    "    \n",
    "    outputs, _status = rnn(X)\n",
    "    \n",
    "    loss = criterion(outputs.view(-1, dic_size), Y.view(-1))\n",
    "    loss.backward()\n",
    "    \n",
    "    optimizer.step()\n",
    "    \n",
    "    result = outputs.data.numpy().argmax(axis=2)\n",
    "    result_str = ''.join([char_set[c] for c in np.squeeze(result)])\n",
    "    print(i, 'loss : ', loss.item(), 'prediction : ', result, 'true Y :', y_data, 'prediction_str : ', result_str)"
   ]
  }
 ],
 "metadata": {
  "kernelspec": {
   "display_name": "Python 3",
   "language": "python",
   "name": "python3"
  },
  "language_info": {
   "codemirror_mode": {
    "name": "ipython",
    "version": 3
   },
   "file_extension": ".py",
   "mimetype": "text/x-python",
   "name": "python",
   "nbconvert_exporter": "python",
   "pygments_lexer": "ipython3",
   "version": "3.8.5"
  },
  "toc": {
   "base_numbering": 1,
   "nav_menu": {},
   "number_sections": true,
   "sideBar": true,
   "skip_h1_title": false,
   "title_cell": "Table of Contents",
   "title_sidebar": "Contents",
   "toc_cell": false,
   "toc_position": {},
   "toc_section_display": true,
   "toc_window_display": false
  },
  "varInspector": {
   "cols": {
    "lenName": 16,
    "lenType": 16,
    "lenVar": 40
   },
   "kernels_config": {
    "python": {
     "delete_cmd_postfix": "",
     "delete_cmd_prefix": "del ",
     "library": "var_list.py",
     "varRefreshCmd": "print(var_dic_list())"
    },
    "r": {
     "delete_cmd_postfix": ") ",
     "delete_cmd_prefix": "rm(",
     "library": "var_list.r",
     "varRefreshCmd": "cat(var_dic_list()) "
    }
   },
   "types_to_exclude": [
    "module",
    "function",
    "builtin_function_or_method",
    "instance",
    "_Feature"
   ],
   "window_display": false
  }
 },
 "nbformat": 4,
 "nbformat_minor": 4
}
