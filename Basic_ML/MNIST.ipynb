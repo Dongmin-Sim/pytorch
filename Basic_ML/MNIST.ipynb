{
 "cells": [
  {
   "cell_type": "markdown",
   "metadata": {},
   "source": [
    "edwith의 부스트 코스 : \"파이토치로 시작하는 딥러닝 기초\" 를 바탕으로 작성되었습니다.  \n",
    "https://www.boostcourse.org/ai214"
   ]
  },
  {
   "cell_type": "markdown",
   "metadata": {},
   "source": [
    "# MNIST\n",
    "- MNIST\n",
    "- Full code : MNIST classifier"
   ]
  },
  {
   "cell_type": "markdown",
   "metadata": {},
   "source": [
    "## MNIST\n",
    "MNIST dataset 은 손으로 쓰인 dataset 임. 0~9까지의 숫자이미지로 구성이 되어있음.  \n",
    "6만장의 이미지와 라벨로 이루어진 training dataset, 1만장의 이미지와 그에 해당하는 레이블로 이루어진 test dataset 이 있음.    \n",
    "\n",
    "28 * 28 사이즈의 channel 값이 1인 gray scale의 이미지임. 레이블은 one-hot encoded 되지 않음.  \n",
    "784개의 값들로 이루어진 이미지라고 할 수 있음.  "
   ]
  },
  {
   "cell_type": "markdown",
   "metadata": {},
   "source": [
    "### torchvision \n",
    "PyTorch 에서 사용하는 패키지로 유명한 dataset, 모델 architecture 들, 데이터에 적용될 수 있는 transform(preprocessing) 들로 구성되어 있고, dataset들을 쉽게 읽어올 수 있도록 torchvision.utils 라는 패키지 또한 제공함.  "
   ]
  },
  {
   "cell_type": "markdown",
   "metadata": {},
   "source": [
    "## Full code : MNIST classifier"
   ]
  },
  {
   "cell_type": "markdown",
   "metadata": {},
   "source": [
    "### import"
   ]
  },
  {
   "cell_type": "code",
   "execution_count": 1,
   "metadata": {},
   "outputs": [],
   "source": [
    "import torch \n",
    "import torch.nn as nn\n",
    "import torch.nn.functional as F\n",
    "import torch.optim as optim\n",
    "import torchvision.datasets as dsets\n",
    "import torchvision.transforms as transforms\n",
    "import torch.utils\n",
    "import random\n",
    "\n",
    "import matplotlib.pyplot as plt"
   ]
  },
  {
   "cell_type": "code",
   "execution_count": 2,
   "metadata": {},
   "outputs": [
    {
     "name": "stdout",
     "output_type": "stream",
     "text": [
      "cpu\n"
     ]
    }
   ],
   "source": [
    "device = 'cuda' if torch.cuda.is_available() else 'cpu'\n",
    "print(device)"
   ]
  },
  {
   "cell_type": "code",
   "execution_count": 3,
   "metadata": {},
   "outputs": [],
   "source": [
    "random.seed(777)\n",
    "torch.manual_seed(777)\n",
    "\n",
    "if device == 'cuda':\n",
    "    torch.cuda.manual_seed_all(777)"
   ]
  },
  {
   "cell_type": "markdown",
   "metadata": {},
   "source": [
    "### data load"
   ]
  },
  {
   "cell_type": "code",
   "execution_count": 4,
   "metadata": {},
   "outputs": [],
   "source": [
    "mnist_train = dsets.MNIST(root='MNIST_data/', train=True, transform=transforms.ToTensor(), download=True)\n",
    "mnist_test = dsets.MNIST(root='MNIST_data/', train=False, transform=transforms.ToTensor(), download=True)"
   ]
  },
  {
   "cell_type": "code",
   "execution_count": 5,
   "metadata": {},
   "outputs": [],
   "source": [
    "train_loader = torch.utils.data.DataLoader(mnist_train, batch_size=100, shuffle=True, drop_last=True)\n",
    "test_loader = torch.utils.data.DataLoader(mnist_test, batch_size=100, shuffle=True, drop_last=True)"
   ]
  },
  {
   "cell_type": "markdown",
   "metadata": {},
   "source": [
    "### Epoch / Batch size / Iteration\n",
    "* one **epoch** = one forward pass and one backward pass of all the training examples (training set 전체에 대해 순전파와 역전파가 일어났을때는 1에폭이라고함, training set 전체가 사용되었을때 1에폭)\n",
    "* **batch size** = the number of training examples in one forward/backward pass. The higher the batch size, the more memory space you'll need. (한번의 forward/backward 에 사용되는 훈련 데이터의 수, 전체 set을 나누어 학습을 진행할때 나누는 batch의 사이즈)\n",
    "* number of **iterations** = number of passes, each pass using [batch size] number of examples. To be clear, one pass = one forward pass + one backward pass (we do not count the forward pass and backward pass as two different passes). (배치를 몇번 학습에 사용되었는지, 학습에 사용된 횟수)\n",
    "\n",
    "**Example** : if you have 1000 training example, and your batch size is 500, then it will take 2 iterations to complete 1 epoch.  \n",
    "1 epoch  = number of training example = batch size * iterations"
   ]
  },
  {
   "cell_type": "markdown",
   "metadata": {},
   "source": [
    "### Train"
   ]
  },
  {
   "cell_type": "code",
   "execution_count": 6,
   "metadata": {},
   "outputs": [],
   "source": [
    "class SoftmaxModel(nn.Module):\n",
    "    def __init__(self):\n",
    "        super().__init__()\n",
    "        self.linear = nn.Linear(784, 10, bias=True).to(device)\n",
    "        \n",
    "    def forward(self, x):\n",
    "        return self.linear(x)"
   ]
  },
  {
   "cell_type": "code",
   "execution_count": 7,
   "metadata": {},
   "outputs": [],
   "source": [
    "model = SoftmaxModel()\n",
    "optimizer = optim.SGD(model.parameters(), lr=0.1)"
   ]
  },
  {
   "cell_type": "code",
   "execution_count": 8,
   "metadata": {},
   "outputs": [
    {
     "name": "stdout",
     "output_type": "stream",
     "text": [
      "Epoch :    1/15, Cost : 0.535469, ACC:0.8677327036857605\n",
      "Epoch :    2/15, Cost : 0.359274, ACC:0.9007329344749451\n",
      "Epoch :    3/15, Cost : 0.331188, ACC:0.9077996611595154\n",
      "Epoch :    4/15, Cost : 0.316578, ACC:0.9118829965591431\n",
      "Epoch :    5/15, Cost : 0.307158, ACC:0.9143326282501221\n",
      "Epoch :    6/15, Cost : 0.300181, ACC:0.9162165522575378\n",
      "Epoch :    7/15, Cost : 0.295130, ACC:0.9181332588195801\n",
      "Epoch :    8/15, Cost : 0.290852, ACC:0.9189333319664001\n",
      "Epoch :    9/15, Cost : 0.287417, ACC:0.9197498559951782\n",
      "Epoch :   10/15, Cost : 0.284380, ACC:0.9202662706375122\n",
      "Epoch :   11/15, Cost : 0.281825, ACC:0.9217662215232849\n",
      "Epoch :   12/15, Cost : 0.279801, ACC:0.9218328595161438\n",
      "Epoch :   13/15, Cost : 0.277809, ACC:0.9227167963981628\n",
      "Epoch :   14/15, Cost : 0.276154, ACC:0.923149585723877\n",
      "Epoch :   15/15, Cost : 0.274441, ACC:0.9240496754646301\n"
     ]
    }
   ],
   "source": [
    "nb_epochs = 15\n",
    "for epoch in range(1, nb_epochs + 1):\n",
    "    avg_cost = 0\n",
    "    avg_acc = 0\n",
    "    total_batch = len(train_loader)\n",
    "    \n",
    "    for x_train, y_train in train_loader:\n",
    "        x_train = x_train.view(-1, 28 * 28).to(device)\n",
    "        y_train = y_train.to(device)\n",
    "        \n",
    "        prediction = model(x_train)\n",
    "        \n",
    "        cost = F.cross_entropy(prediction, y_train).to(device)\n",
    "        \n",
    "        correct_prediction = torch.argmax(prediction, 1) == y_train\n",
    "        accuracy = correct_prediction.float().mean()\n",
    "        avg_acc += accuracy/total_batch\n",
    "        \n",
    "        optimizer.zero_grad()\n",
    "        cost.backward()\n",
    "        optimizer.step()\n",
    "        \n",
    "        avg_cost += cost/total_batch\n",
    "        \n",
    "    print('Epoch : {:4d}/{}, Cost : {:.6f}, ACC:{:.5f}'.format(epoch, nb_epochs, avg_cost, avg_acc))"
   ]
  },
  {
   "cell_type": "markdown",
   "metadata": {},
   "source": [
    "### Test"
   ]
  },
  {
   "cell_type": "code",
   "execution_count": 9,
   "metadata": {},
   "outputs": [
    {
     "name": "stdout",
     "output_type": "stream",
     "text": [
      "torch.Size([10000, 10])\n",
      "Accuracy :  0.8863000273704529\n"
     ]
    }
   ],
   "source": [
    "with torch.no_grad():  # gradient 계산을 하지 않는 다는 의미 \n",
    "    x_test = mnist_test.data.view(-1, 28 * 28).float().to(device)\n",
    "    y_test = mnist_test.targets.to(device)\n",
    "    \n",
    "    prediction = model(x_test)\n",
    "    print(prediction.shape)\n",
    "    \n",
    "#     correct_prediction = torch.argmax(prediction, 1) == y_test\n",
    "    correct_prediction = torch.max(prediction, 1)[1] == y_test\n",
    "    \n",
    "    accuracy = correct_prediction.float().mean()\n",
    "    print(\"Accuracy : \", accuracy.item())"
   ]
  },
  {
   "cell_type": "markdown",
   "metadata": {},
   "source": [
    "## Visualization"
   ]
  },
  {
   "cell_type": "code",
   "execution_count": 26,
   "metadata": {},
   "outputs": [
    {
     "name": "stdout",
     "output_type": "stream",
     "text": [
      "Label :  9\n",
      "Prediction :  9\n"
     ]
    },
    {
     "data": {
      "image/png": "[encoded data removed]",
      "text/plain": [
       "<Figure size 432x288 with 1 Axes>"
      ]
     },
     "metadata": {
      "needs_background": "light"
     },
     "output_type": "display_data"
    }
   ],
   "source": [
    "r = random.randint(0, len(mnist_test) - 1)\n",
    "x_single_data = mnist_test.data[r].view(-1, 28 * 28).float().to(device)\n",
    "y_single_data = mnist_test.targets[r].to(device)\n",
    "\n",
    "print('Label : ', y_single_data.item())\n",
    "single_prediction = model(x_single_data)\n",
    "print('Prediction : ', torch.argmax(single_prediction, 1).item())\n",
    "\n",
    "plt.imshow(mnist_test.data[r].view(-1, 28), cmap='Greys', interpolation='nearest')\n",
    "plt.show()"
   ]
  }
 ],
 "metadata": {
  "kernelspec": {
   "display_name": "Python 3",
   "language": "python",
   "name": "python3"
  },
  "language_info": {
   "codemirror_mode": {
    "name": "ipython",
    "version": 3
   },
   "file_extension": ".py",
   "mimetype": "text/x-python",
   "name": "python",
   "nbconvert_exporter": "python",
   "pygments_lexer": "ipython3",
   "version": "3.8.5"
  },
  "toc": {
   "base_numbering": 1,
   "nav_menu": {},
   "number_sections": true,
   "sideBar": true,
   "skip_h1_title": false,
   "title_cell": "Table of Contents",
   "title_sidebar": "Contents",
   "toc_cell": false,
   "toc_position": {},
   "toc_section_display": true,
   "toc_window_display": false
  },
  "varInspector": {
   "cols": {
    "lenName": 16,
    "lenType": 16,
    "lenVar": 40
   },
   "kernels_config": {
    "python": {
     "delete_cmd_postfix": "",
     "delete_cmd_prefix": "del ",
     "library": "var_list.py",
     "varRefreshCmd": "print(var_dic_list())"
    },
    "r": {
     "delete_cmd_postfix": ") ",
     "delete_cmd_prefix": "rm(",
     "library": "var_list.r",
     "varRefreshCmd": "cat(var_dic_list()) "
    }
   },
   "types_to_exclude": [
    "module",
    "function",
    "builtin_function_or_method",
    "instance",
    "_Feature"
   ],
   "window_display": false
  }
 },
 "nbformat": 4,
 "nbformat_minor": 4
}
